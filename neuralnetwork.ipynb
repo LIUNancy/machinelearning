{
 "cells": [
  {
   "cell_type": "code",
   "execution_count": 23,
   "id": "ff05ab92",
   "metadata": {},
   "outputs": [
    {
     "data": {
      "text/plain": [
       "500"
      ]
     },
     "execution_count": 23,
     "metadata": {},
     "output_type": "execute_result"
    }
   ],
   "source": [
    "import numpy as np\n",
    "D = np.random.randn(1000, 500)\n",
    "D.shape[1]"
   ]
  },
  {
   "cell_type": "code",
   "execution_count": 21,
   "id": "b69f6ac7",
   "metadata": {},
   "outputs": [
    {
     "data": {
      "text/plain": [
       "[500, 500, 500, 500, 500, 500, 500, 500, 500, 500]"
      ]
     },
     "execution_count": 21,
     "metadata": {},
     "output_type": "execute_result"
    }
   ],
   "source": [
    "hidden_layer_sizes = [500] * 10\n",
    "hidden_layer_sizes"
   ]
  },
  {
   "cell_type": "code",
   "execution_count": 6,
   "id": "b4700fc6",
   "metadata": {},
   "outputs": [
    {
     "data": {
      "text/plain": [
       "['tanh',\n",
       " 'tanh',\n",
       " 'tanh',\n",
       " 'tanh',\n",
       " 'tanh',\n",
       " 'tanh',\n",
       " 'tanh',\n",
       " 'tanh',\n",
       " 'tanh',\n",
       " 'tanh']"
      ]
     },
     "execution_count": 6,
     "metadata": {},
     "output_type": "execute_result"
    }
   ],
   "source": [
    "nonlinearities = ['tanh'] * len(hidden_layer_sizes)\n",
    "nonlinearities"
   ]
  },
  {
   "cell_type": "code",
   "execution_count": 10,
   "id": "1f13d200",
   "metadata": {},
   "outputs": [
    {
     "name": "stdout",
     "output_type": "stream",
     "text": [
      "[-0.83365461 -0.76159416 -0.66403677 -0.46211716  0.76159416  0.99998771]\n"
     ]
    }
   ],
   "source": [
    "a = [-1.2, -1, -0.8, -0.5, 1, 6]\n",
    "print(np.tanh(a))"
   ]
  },
  {
   "cell_type": "code",
   "execution_count": 18,
   "id": "d0b1de4a",
   "metadata": {},
   "outputs": [
    {
     "data": {
      "text/plain": [
       "0.9999999958776927"
      ]
     },
     "execution_count": 18,
     "metadata": {},
     "output_type": "execute_result"
    }
   ],
   "source": [
    "act = {'relu': lambda x: np.maximum(0,x), 'tanh': lambda x:np.tanh(x)}\n",
    "b = act[nonlinearities[1]](10)\n",
    "b"
   ]
  },
  {
   "cell_type": "code",
   "execution_count": 27,
   "id": "c292a91c",
   "metadata": {},
   "outputs": [],
   "source": [
    "Hs = {}\n",
    "for i in range(len(hidden_layer_sizes)):\n",
    "    X = D if i == 0 else Hs[i-1]\n",
    "#     print(X)\n",
    "    fan_in = X.shape[1]\n",
    "    fan_out = hidden_layer_sizes[i]\n",
    "    W = np.random.randn(fan_in, fan_out)\n",
    "#     print(W)\n",
    "    \n",
    "    H = np.dot(X, W)\n",
    "#     print(H)\n",
    "    H = act[nonlinearities[i]](H)\n",
    "#     print(H)\n",
    "    Hs[i] = H"
   ]
  },
  {
   "cell_type": "code",
   "execution_count": 33,
   "id": "605690c2",
   "metadata": {},
   "outputs": [
    {
     "name": "stdout",
     "output_type": "stream",
     "text": [
      "input layer had mean 0.000136 and std 1.000882 of array([[-0.37700213,  0.98825274, -0.04273522, ...,  0.74458977,\n",
      "        -0.40442936, -1.04151438],\n",
      "       [-3.00414356, -0.09769098, -1.48015745, ...,  1.50654318,\n",
      "        -1.33313786, -0.61232592],\n",
      "       [ 0.24550462,  1.67938863,  2.3070464 , ...,  0.57369793,\n",
      "        -0.68076973,  0.98719443],\n",
      "       ...,\n",
      "       [-0.05346797, -1.18197246, -0.62061669, ..., -0.52383442,\n",
      "        -0.57697569,  1.24026672],\n",
      "       [-0.02400113,  1.43273818,  1.52189543, ...,  0.26774294,\n",
      "        -1.36023669, -0.9082874 ],\n",
      "       [-1.73457497,  0.41888269,  0.3352887 , ...,  0.50465942,\n",
      "         2.04229184, -0.48594738]])\n"
     ]
    }
   ],
   "source": [
    "print ('input layer had mean %f and std %f of %a' % (np.mean(D), np.std(D), D))"
   ]
  },
  {
   "cell_type": "code",
   "execution_count": 45,
   "id": "0c33091a",
   "metadata": {},
   "outputs": [
    {
     "name": "stdout",
     "output_type": "stream",
     "text": [
      "hidden layer 1 had mean 0.000573 and std 0.981882 of array([[ 1.        , -1.        , -1.        , ..., -1.        ,\n",
      "        -0.99999974, -1.        ],\n",
      "       [-1.        , -1.        , -1.        , ...,  1.        ,\n",
      "        -1.        ,  0.99999996],\n",
      "       [ 1.        , -1.        ,  1.        , ...,  1.        ,\n",
      "        -1.        , -1.        ],\n",
      "       ...,\n",
      "       [ 0.99999952, -1.        , -1.        , ...,  1.        ,\n",
      "        -1.        , -1.        ],\n",
      "       [-0.99996848, -1.        ,  1.        , ..., -0.99614723,\n",
      "         1.        ,  0.99999993],\n",
      "       [-1.        ,  1.        , -0.99999999, ..., -1.        ,\n",
      "        -1.        , -0.99998813]])\n",
      "hidden layer 2 had mean 0.001016 and std 0.981733 of array([[-1.        , -1.        , -0.99851144, ..., -1.        ,\n",
      "         1.        , -0.99999534],\n",
      "       [ 0.99999998, -1.        ,  1.        , ...,  0.99947459,\n",
      "        -0.99999887, -1.        ],\n",
      "       [ 1.        , -0.99981311, -0.25279169, ..., -0.99999459,\n",
      "         0.9999982 ,  0.99999997],\n",
      "       ...,\n",
      "       [ 1.        ,  1.        ,  1.        , ..., -0.26117255,\n",
      "         1.        , -1.        ],\n",
      "       [-1.        , -1.        , -1.        , ...,  0.13284822,\n",
      "        -1.        ,  1.        ],\n",
      "       [-1.        , -1.        ,  0.99999828, ...,  1.        ,\n",
      "         1.        ,  0.99999295]])\n",
      "hidden layer 3 had mean 0.001348 and std 0.981693 of array([[ 1.        , -1.        ,  1.        , ..., -1.        ,\n",
      "        -0.99905003, -1.        ],\n",
      "       [-1.        , -0.99999998,  0.96872157, ...,  0.99999999,\n",
      "         1.        , -1.        ],\n",
      "       [-0.98243065,  1.        , -1.        , ..., -0.99011314,\n",
      "         0.99989801, -1.        ],\n",
      "       ...,\n",
      "       [-1.        , -1.        , -0.40157579, ...,  1.        ,\n",
      "        -1.        , -0.89524209],\n",
      "       [ 1.        ,  0.99999986, -1.        , ..., -1.        ,\n",
      "         1.        , -1.        ],\n",
      "       [ 1.        ,  1.        , -1.        , ..., -0.99999956,\n",
      "        -0.9999995 , -1.        ]])\n",
      "hidden layer 4 had mean 0.000714 and std 0.981553 of array([[ 0.98149445,  0.99999896, -1.        , ..., -0.98261216,\n",
      "         0.70120593, -1.        ],\n",
      "       [ 1.        , -1.        ,  1.        , ..., -1.        ,\n",
      "        -1.        , -0.99999987],\n",
      "       [ 1.        , -1.        ,  1.        , ..., -1.        ,\n",
      "         1.        ,  1.        ],\n",
      "       ...,\n",
      "       [-1.        ,  1.        , -1.        , ..., -1.        ,\n",
      "         1.        ,  0.99238264],\n",
      "       [-1.        , -1.        ,  0.99999999, ..., -0.99999935,\n",
      "        -1.        ,  1.        ],\n",
      "       [ 0.99996318, -0.99205811, -1.        , ...,  1.        ,\n",
      "        -1.        , -1.        ]])\n",
      "hidden layer 5 had mean 0.000623 and std 0.981463 of array([[ 0.99999219, -1.        , -0.9997416 , ..., -0.99999997,\n",
      "         1.        ,  1.        ],\n",
      "       [-0.99999989, -1.        ,  0.99217099, ...,  1.        ,\n",
      "        -1.        ,  0.99999989],\n",
      "       [ 1.        , -1.        , -1.        , ...,  1.        ,\n",
      "         1.        ,  1.        ],\n",
      "       ...,\n",
      "       [-1.        , -0.9999997 ,  1.        , ..., -0.99907821,\n",
      "         0.99999896, -1.        ],\n",
      "       [-1.        , -1.        ,  1.        , ..., -0.99999613,\n",
      "         0.99946065, -0.99999611],\n",
      "       [ 1.        ,  1.        , -1.        , ..., -1.        ,\n",
      "        -0.83960059, -0.99999093]])\n",
      "hidden layer 6 had mean -0.002264 and std 0.981683 of array([[ 1.        , -0.99998914, -1.        , ..., -0.99932879,\n",
      "        -1.        , -1.        ],\n",
      "       [-1.        ,  1.        , -1.        , ...,  1.        ,\n",
      "         1.        ,  0.9980364 ],\n",
      "       [-1.        ,  0.99544916,  0.99999999, ...,  1.        ,\n",
      "        -1.        , -1.        ],\n",
      "       ...,\n",
      "       [-1.        ,  1.        , -1.        , ..., -0.99999991,\n",
      "        -0.99999991, -1.        ],\n",
      "       [-0.9999947 ,  1.        ,  1.        , ..., -0.99999933,\n",
      "         0.99634765, -1.        ],\n",
      "       [-1.        ,  1.        , -0.99944288, ...,  1.        ,\n",
      "         0.99999965, -1.        ]])\n",
      "hidden layer 7 had mean 0.000680 and std 0.981658 of array([[ 1.        ,  0.97336292, -1.        , ..., -1.        ,\n",
      "        -1.        , -0.58965926],\n",
      "       [ 1.        , -1.        , -0.99819063, ...,  1.        ,\n",
      "        -1.        , -1.        ],\n",
      "       [ 1.        , -1.        , -0.458443  , ..., -1.        ,\n",
      "         1.        ,  1.        ],\n",
      "       ...,\n",
      "       [ 1.        , -0.99903758, -1.        , ...,  1.        ,\n",
      "         1.        ,  1.        ],\n",
      "       [-0.99999762,  0.99999932, -0.99999987, ...,  1.        ,\n",
      "         0.99999998,  1.        ],\n",
      "       [-1.        , -1.        ,  1.        , ..., -0.84987053,\n",
      "        -1.        ,  1.        ]])\n",
      "hidden layer 8 had mean 0.000781 and std 0.981660 of array([[-1.        ,  1.        , -1.        , ..., -1.        ,\n",
      "         1.        ,  1.        ],\n",
      "       [-1.        , -0.40543759, -1.        , ..., -1.        ,\n",
      "        -1.        ,  1.        ],\n",
      "       [-1.        , -1.        ,  1.        , ...,  1.        ,\n",
      "        -1.        ,  1.        ],\n",
      "       ...,\n",
      "       [ 0.99991491,  0.99995352,  1.        , ...,  1.        ,\n",
      "         1.        , -1.        ],\n",
      "       [-1.        , -1.        , -1.        , ...,  1.        ,\n",
      "        -1.        , -1.        ],\n",
      "       [-1.        , -0.9999982 , -1.        , ..., -1.        ,\n",
      "        -0.99799087, -1.        ]])\n",
      "hidden layer 9 had mean -0.000599 and std 0.981559 of array([[-1.        ,  1.        ,  0.97401828, ...,  1.        ,\n",
      "        -0.8345093 ,  1.        ],\n",
      "       [-1.        , -0.9999999 ,  1.        , ...,  1.        ,\n",
      "        -1.        , -1.        ],\n",
      "       [ 1.        , -1.        , -1.        , ...,  1.        ,\n",
      "        -0.99075368,  1.        ],\n",
      "       ...,\n",
      "       [-1.        ,  1.        ,  1.        , ...,  0.99999913,\n",
      "         1.        , -1.        ],\n",
      "       [-1.        , -0.23352614,  0.98529207, ..., -1.        ,\n",
      "        -1.        ,  1.        ],\n",
      "       [-1.        ,  1.        ,  1.        , ..., -1.        ,\n",
      "         1.        , -1.        ]])\n",
      "hidden layer 10 had mean 0.000238 and std 0.981744 of array([[-1.        , -0.99994269,  0.9996977 , ..., -1.        ,\n",
      "         0.9999758 , -0.99998369],\n",
      "       [ 1.        ,  0.99999964,  1.        , ...,  1.        ,\n",
      "        -0.99999738,  1.        ],\n",
      "       [-1.        , -1.        ,  1.        , ..., -0.9999712 ,\n",
      "        -1.        ,  0.99933907],\n",
      "       ...,\n",
      "       [ 1.        , -1.        , -1.        , ...,  0.99999792,\n",
      "         0.74728685, -1.        ],\n",
      "       [-1.        , -0.73101391, -0.98741157, ...,  1.        ,\n",
      "         1.        ,  0.99982689],\n",
      "       [-0.99999988, -1.        ,  0.96495612, ..., -0.99991215,\n",
      "        -1.        , -1.        ]])\n"
     ]
    }
   ],
   "source": [
    "layer_means = [np.mean(H) for i,H in Hs.items()]\n",
    "layer_stds = [np.std(H) for i,H in Hs.items()]\n",
    "for i,H in Hs.items():\n",
    "    print ('hidden layer %d had mean %f and std %f of %a' % (i+1, layer_means[i], layer_stds[i], H))"
   ]
  },
  {
   "cell_type": "code",
   "execution_count": 61,
   "id": "2ca7d86e",
   "metadata": {},
   "outputs": [
    {
     "name": "stdout",
     "output_type": "stream",
     "text": [
      "[0.0005731847316656688, 0.0010160760136091553, 0.0013480533785491255, 0.0007141896301053986, 0.0006232696586708403, -0.0022640562139789318, 0.0006804532844736117, 0.0007807552224145158, -0.0005989289650341925, 0.00023753005627888768]\n"
     ]
    },
    {
     "ename": "AttributeError",
     "evalue": "'dict_items' object has no attribute 'keys'",
     "output_type": "error",
     "traceback": [
      "\u001b[1;31m---------------------------------------------------------------------------\u001b[0m",
      "\u001b[1;31mAttributeError\u001b[0m                            Traceback (most recent call last)",
      "\u001b[1;32m<ipython-input-61-01f267870c06>\u001b[0m in \u001b[0;36m<module>\u001b[1;34m\u001b[0m\n\u001b[0;32m      1\u001b[0m \u001b[0mprint\u001b[0m\u001b[1;33m(\u001b[0m\u001b[0mlayer_means\u001b[0m\u001b[1;33m)\u001b[0m\u001b[1;33m\u001b[0m\u001b[0m\n\u001b[1;32m----> 2\u001b[1;33m \u001b[0mHs\u001b[0m\u001b[1;33m.\u001b[0m\u001b[0mitems\u001b[0m\u001b[1;33m(\u001b[0m\u001b[1;33m)\u001b[0m\u001b[1;33m.\u001b[0m\u001b[0mkeys\u001b[0m\u001b[1;33m(\u001b[0m\u001b[1;33m)\u001b[0m\u001b[1;33m\u001b[0m\u001b[0m\n\u001b[0m",
      "\u001b[1;31mAttributeError\u001b[0m: 'dict_items' object has no attribute 'keys'"
     ]
    }
   ],
   "source": [
    "print(layer_means)\n",
    "Hs.items().keys()"
   ]
  },
  {
   "cell_type": "code",
   "execution_count": 57,
   "id": "33ef38cd",
   "metadata": {},
   "outputs": [
    {
     "ename": "ValueError",
     "evalue": "x and y must have same first dimension",
     "output_type": "error",
     "traceback": [
      "\u001b[1;31m---------------------------------------------------------------------------\u001b[0m",
      "\u001b[1;31mValueError\u001b[0m                                Traceback (most recent call last)",
      "\u001b[1;32m<ipython-input-57-ad6cd4a095fa>\u001b[0m in \u001b[0;36m<module>\u001b[1;34m\u001b[0m\n\u001b[0;32m      1\u001b[0m \u001b[1;32mimport\u001b[0m \u001b[0mmatplotlib\u001b[0m\u001b[1;33m.\u001b[0m\u001b[0mpyplot\u001b[0m \u001b[1;32mas\u001b[0m \u001b[0mplt\u001b[0m\u001b[1;33m\u001b[0m\u001b[0m\n\u001b[0;32m      2\u001b[0m \u001b[0mplt\u001b[0m\u001b[1;33m.\u001b[0m\u001b[0mfigure\u001b[0m\u001b[1;33m(\u001b[0m\u001b[1;33m)\u001b[0m\u001b[1;33m\u001b[0m\u001b[0m\n\u001b[1;32m----> 3\u001b[1;33m \u001b[0mplt\u001b[0m\u001b[1;33m.\u001b[0m\u001b[0mplot\u001b[0m\u001b[1;33m(\u001b[0m\u001b[0mHs\u001b[0m\u001b[1;33m.\u001b[0m\u001b[0mkeys\u001b[0m\u001b[1;33m(\u001b[0m\u001b[1;33m)\u001b[0m\u001b[1;33m,\u001b[0m \u001b[0mlayer_means\u001b[0m\u001b[1;33m,\u001b[0m \u001b[1;34m'ob-'\u001b[0m\u001b[1;33m)\u001b[0m\u001b[1;33m\u001b[0m\u001b[0m\n\u001b[0m",
      "\u001b[1;32m~\\AppData\\Local\\Continuum\\anaconda2\\envs\\tensorflow\\lib\\site-packages\\matplotlib\\pyplot.py\u001b[0m in \u001b[0;36mplot\u001b[1;34m(*args, **kwargs)\u001b[0m\n\u001b[0;32m   3159\u001b[0m         \u001b[0max\u001b[0m\u001b[1;33m.\u001b[0m\u001b[0mhold\u001b[0m\u001b[1;33m(\u001b[0m\u001b[0mhold\u001b[0m\u001b[1;33m)\u001b[0m\u001b[1;33m\u001b[0m\u001b[0m\n\u001b[0;32m   3160\u001b[0m     \u001b[1;32mtry\u001b[0m\u001b[1;33m:\u001b[0m\u001b[1;33m\u001b[0m\u001b[0m\n\u001b[1;32m-> 3161\u001b[1;33m         \u001b[0mret\u001b[0m \u001b[1;33m=\u001b[0m \u001b[0max\u001b[0m\u001b[1;33m.\u001b[0m\u001b[0mplot\u001b[0m\u001b[1;33m(\u001b[0m\u001b[1;33m*\u001b[0m\u001b[0margs\u001b[0m\u001b[1;33m,\u001b[0m \u001b[1;33m**\u001b[0m\u001b[0mkwargs\u001b[0m\u001b[1;33m)\u001b[0m\u001b[1;33m\u001b[0m\u001b[0m\n\u001b[0m\u001b[0;32m   3162\u001b[0m     \u001b[1;32mfinally\u001b[0m\u001b[1;33m:\u001b[0m\u001b[1;33m\u001b[0m\u001b[0m\n\u001b[0;32m   3163\u001b[0m         \u001b[0max\u001b[0m\u001b[1;33m.\u001b[0m\u001b[0mhold\u001b[0m\u001b[1;33m(\u001b[0m\u001b[0mwashold\u001b[0m\u001b[1;33m)\u001b[0m\u001b[1;33m\u001b[0m\u001b[0m\n",
      "\u001b[1;32m~\\AppData\\Local\\Continuum\\anaconda2\\envs\\tensorflow\\lib\\site-packages\\matplotlib\\__init__.py\u001b[0m in \u001b[0;36minner\u001b[1;34m(ax, *args, **kwargs)\u001b[0m\n\u001b[0;32m   1817\u001b[0m                     warnings.warn(msg % (label_namer, func.__name__),\n\u001b[0;32m   1818\u001b[0m                                   RuntimeWarning, stacklevel=2)\n\u001b[1;32m-> 1819\u001b[1;33m             \u001b[1;32mreturn\u001b[0m \u001b[0mfunc\u001b[0m\u001b[1;33m(\u001b[0m\u001b[0max\u001b[0m\u001b[1;33m,\u001b[0m \u001b[1;33m*\u001b[0m\u001b[0margs\u001b[0m\u001b[1;33m,\u001b[0m \u001b[1;33m**\u001b[0m\u001b[0mkwargs\u001b[0m\u001b[1;33m)\u001b[0m\u001b[1;33m\u001b[0m\u001b[0m\n\u001b[0m\u001b[0;32m   1820\u001b[0m         \u001b[0mpre_doc\u001b[0m \u001b[1;33m=\u001b[0m \u001b[0minner\u001b[0m\u001b[1;33m.\u001b[0m\u001b[0m__doc__\u001b[0m\u001b[1;33m\u001b[0m\u001b[0m\n\u001b[0;32m   1821\u001b[0m         \u001b[1;32mif\u001b[0m \u001b[0mpre_doc\u001b[0m \u001b[1;32mis\u001b[0m \u001b[1;32mNone\u001b[0m\u001b[1;33m:\u001b[0m\u001b[1;33m\u001b[0m\u001b[0m\n",
      "\u001b[1;32m~\\AppData\\Local\\Continuum\\anaconda2\\envs\\tensorflow\\lib\\site-packages\\matplotlib\\axes\\_axes.py\u001b[0m in \u001b[0;36mplot\u001b[1;34m(self, *args, **kwargs)\u001b[0m\n\u001b[0;32m   1380\u001b[0m         \u001b[0mkwargs\u001b[0m \u001b[1;33m=\u001b[0m \u001b[0mcbook\u001b[0m\u001b[1;33m.\u001b[0m\u001b[0mnormalize_kwargs\u001b[0m\u001b[1;33m(\u001b[0m\u001b[0mkwargs\u001b[0m\u001b[1;33m,\u001b[0m \u001b[0m_alias_map\u001b[0m\u001b[1;33m)\u001b[0m\u001b[1;33m\u001b[0m\u001b[0m\n\u001b[0;32m   1381\u001b[0m \u001b[1;33m\u001b[0m\u001b[0m\n\u001b[1;32m-> 1382\u001b[1;33m         \u001b[1;32mfor\u001b[0m \u001b[0mline\u001b[0m \u001b[1;32min\u001b[0m \u001b[0mself\u001b[0m\u001b[1;33m.\u001b[0m\u001b[0m_get_lines\u001b[0m\u001b[1;33m(\u001b[0m\u001b[1;33m*\u001b[0m\u001b[0margs\u001b[0m\u001b[1;33m,\u001b[0m \u001b[1;33m**\u001b[0m\u001b[0mkwargs\u001b[0m\u001b[1;33m)\u001b[0m\u001b[1;33m:\u001b[0m\u001b[1;33m\u001b[0m\u001b[0m\n\u001b[0m\u001b[0;32m   1383\u001b[0m             \u001b[0mself\u001b[0m\u001b[1;33m.\u001b[0m\u001b[0madd_line\u001b[0m\u001b[1;33m(\u001b[0m\u001b[0mline\u001b[0m\u001b[1;33m)\u001b[0m\u001b[1;33m\u001b[0m\u001b[0m\n\u001b[0;32m   1384\u001b[0m             \u001b[0mlines\u001b[0m\u001b[1;33m.\u001b[0m\u001b[0mappend\u001b[0m\u001b[1;33m(\u001b[0m\u001b[0mline\u001b[0m\u001b[1;33m)\u001b[0m\u001b[1;33m\u001b[0m\u001b[0m\n",
      "\u001b[1;32m~\\AppData\\Local\\Continuum\\anaconda2\\envs\\tensorflow\\lib\\site-packages\\matplotlib\\axes\\_base.py\u001b[0m in \u001b[0;36m_grab_next_args\u001b[1;34m(self, *args, **kwargs)\u001b[0m\n\u001b[0;32m    379\u001b[0m                 \u001b[1;32mreturn\u001b[0m\u001b[1;33m\u001b[0m\u001b[0m\n\u001b[0;32m    380\u001b[0m             \u001b[1;32mif\u001b[0m \u001b[0mlen\u001b[0m\u001b[1;33m(\u001b[0m\u001b[0mremaining\u001b[0m\u001b[1;33m)\u001b[0m \u001b[1;33m<=\u001b[0m \u001b[1;36m3\u001b[0m\u001b[1;33m:\u001b[0m\u001b[1;33m\u001b[0m\u001b[0m\n\u001b[1;32m--> 381\u001b[1;33m                 \u001b[1;32mfor\u001b[0m \u001b[0mseg\u001b[0m \u001b[1;32min\u001b[0m \u001b[0mself\u001b[0m\u001b[1;33m.\u001b[0m\u001b[0m_plot_args\u001b[0m\u001b[1;33m(\u001b[0m\u001b[0mremaining\u001b[0m\u001b[1;33m,\u001b[0m \u001b[0mkwargs\u001b[0m\u001b[1;33m)\u001b[0m\u001b[1;33m:\u001b[0m\u001b[1;33m\u001b[0m\u001b[0m\n\u001b[0m\u001b[0;32m    382\u001b[0m                     \u001b[1;32myield\u001b[0m \u001b[0mseg\u001b[0m\u001b[1;33m\u001b[0m\u001b[0m\n\u001b[0;32m    383\u001b[0m                 \u001b[1;32mreturn\u001b[0m\u001b[1;33m\u001b[0m\u001b[0m\n",
      "\u001b[1;32m~\\AppData\\Local\\Continuum\\anaconda2\\envs\\tensorflow\\lib\\site-packages\\matplotlib\\axes\\_base.py\u001b[0m in \u001b[0;36m_plot_args\u001b[1;34m(self, tup, kwargs)\u001b[0m\n\u001b[0;32m    357\u001b[0m             \u001b[0mx\u001b[0m\u001b[1;33m,\u001b[0m \u001b[0my\u001b[0m \u001b[1;33m=\u001b[0m \u001b[0mindex_of\u001b[0m\u001b[1;33m(\u001b[0m\u001b[0mtup\u001b[0m\u001b[1;33m[\u001b[0m\u001b[1;33m-\u001b[0m\u001b[1;36m1\u001b[0m\u001b[1;33m]\u001b[0m\u001b[1;33m)\u001b[0m\u001b[1;33m\u001b[0m\u001b[0m\n\u001b[0;32m    358\u001b[0m \u001b[1;33m\u001b[0m\u001b[0m\n\u001b[1;32m--> 359\u001b[1;33m         \u001b[0mx\u001b[0m\u001b[1;33m,\u001b[0m \u001b[0my\u001b[0m \u001b[1;33m=\u001b[0m \u001b[0mself\u001b[0m\u001b[1;33m.\u001b[0m\u001b[0m_xy_from_xy\u001b[0m\u001b[1;33m(\u001b[0m\u001b[0mx\u001b[0m\u001b[1;33m,\u001b[0m \u001b[0my\u001b[0m\u001b[1;33m)\u001b[0m\u001b[1;33m\u001b[0m\u001b[0m\n\u001b[0m\u001b[0;32m    360\u001b[0m \u001b[1;33m\u001b[0m\u001b[0m\n\u001b[0;32m    361\u001b[0m         \u001b[1;32mif\u001b[0m \u001b[0mself\u001b[0m\u001b[1;33m.\u001b[0m\u001b[0mcommand\u001b[0m \u001b[1;33m==\u001b[0m \u001b[1;34m'plot'\u001b[0m\u001b[1;33m:\u001b[0m\u001b[1;33m\u001b[0m\u001b[0m\n",
      "\u001b[1;32m~\\AppData\\Local\\Continuum\\anaconda2\\envs\\tensorflow\\lib\\site-packages\\matplotlib\\axes\\_base.py\u001b[0m in \u001b[0;36m_xy_from_xy\u001b[1;34m(self, x, y)\u001b[0m\n\u001b[0;32m    217\u001b[0m         \u001b[0my\u001b[0m \u001b[1;33m=\u001b[0m \u001b[0m_check_1d\u001b[0m\u001b[1;33m(\u001b[0m\u001b[0my\u001b[0m\u001b[1;33m)\u001b[0m\u001b[1;33m\u001b[0m\u001b[0m\n\u001b[0;32m    218\u001b[0m         \u001b[1;32mif\u001b[0m \u001b[0mx\u001b[0m\u001b[1;33m.\u001b[0m\u001b[0mshape\u001b[0m\u001b[1;33m[\u001b[0m\u001b[1;36m0\u001b[0m\u001b[1;33m]\u001b[0m \u001b[1;33m!=\u001b[0m \u001b[0my\u001b[0m\u001b[1;33m.\u001b[0m\u001b[0mshape\u001b[0m\u001b[1;33m[\u001b[0m\u001b[1;36m0\u001b[0m\u001b[1;33m]\u001b[0m\u001b[1;33m:\u001b[0m\u001b[1;33m\u001b[0m\u001b[0m\n\u001b[1;32m--> 219\u001b[1;33m             \u001b[1;32mraise\u001b[0m \u001b[0mValueError\u001b[0m\u001b[1;33m(\u001b[0m\u001b[1;34m\"x and y must have same first dimension\"\u001b[0m\u001b[1;33m)\u001b[0m\u001b[1;33m\u001b[0m\u001b[0m\n\u001b[0m\u001b[0;32m    220\u001b[0m         \u001b[1;32mif\u001b[0m \u001b[0mx\u001b[0m\u001b[1;33m.\u001b[0m\u001b[0mndim\u001b[0m \u001b[1;33m>\u001b[0m \u001b[1;36m2\u001b[0m \u001b[1;32mor\u001b[0m \u001b[0my\u001b[0m\u001b[1;33m.\u001b[0m\u001b[0mndim\u001b[0m \u001b[1;33m>\u001b[0m \u001b[1;36m2\u001b[0m\u001b[1;33m:\u001b[0m\u001b[1;33m\u001b[0m\u001b[0m\n\u001b[0;32m    221\u001b[0m             \u001b[1;32mraise\u001b[0m \u001b[0mValueError\u001b[0m\u001b[1;33m(\u001b[0m\u001b[1;34m\"x and y can be no greater than 2-D\"\u001b[0m\u001b[1;33m)\u001b[0m\u001b[1;33m\u001b[0m\u001b[0m\n",
      "\u001b[1;31mValueError\u001b[0m: x and y must have same first dimension"
     ]
    },
    {
     "ename": "AttributeError",
     "evalue": "module 'matplotlib.colors' has no attribute 'to_rgba'",
     "output_type": "error",
     "traceback": [
      "\u001b[1;31m---------------------------------------------------------------------------\u001b[0m",
      "\u001b[1;31mAttributeError\u001b[0m                            Traceback (most recent call last)",
      "\u001b[1;32m~\\AppData\\Local\\Continuum\\anaconda2\\envs\\tensorflow\\lib\\site-packages\\ipykernel\\pylab\\backend_inline.py\u001b[0m in \u001b[0;36mshow\u001b[1;34m(close, block)\u001b[0m\n\u001b[0;32m     37\u001b[0m             display(\n\u001b[0;32m     38\u001b[0m                 \u001b[0mfigure_manager\u001b[0m\u001b[1;33m.\u001b[0m\u001b[0mcanvas\u001b[0m\u001b[1;33m.\u001b[0m\u001b[0mfigure\u001b[0m\u001b[1;33m,\u001b[0m\u001b[1;33m\u001b[0m\u001b[0m\n\u001b[1;32m---> 39\u001b[1;33m                 \u001b[0mmetadata\u001b[0m\u001b[1;33m=\u001b[0m\u001b[0m_fetch_figure_metadata\u001b[0m\u001b[1;33m(\u001b[0m\u001b[0mfigure_manager\u001b[0m\u001b[1;33m.\u001b[0m\u001b[0mcanvas\u001b[0m\u001b[1;33m.\u001b[0m\u001b[0mfigure\u001b[0m\u001b[1;33m)\u001b[0m\u001b[1;33m\u001b[0m\u001b[0m\n\u001b[0m\u001b[0;32m     40\u001b[0m             )\n\u001b[0;32m     41\u001b[0m     \u001b[1;32mfinally\u001b[0m\u001b[1;33m:\u001b[0m\u001b[1;33m\u001b[0m\u001b[0m\n",
      "\u001b[1;32m~\\AppData\\Local\\Continuum\\anaconda2\\envs\\tensorflow\\lib\\site-packages\\ipykernel\\pylab\\backend_inline.py\u001b[0m in \u001b[0;36m_fetch_figure_metadata\u001b[1;34m(fig)\u001b[0m\n\u001b[0;32m    172\u001b[0m     \u001b[1;34m\"\"\"Get some metadata to help with displaying a figure.\"\"\"\u001b[0m\u001b[1;33m\u001b[0m\u001b[0m\n\u001b[0;32m    173\u001b[0m     \u001b[1;31m# determine if a background is needed for legibility\u001b[0m\u001b[1;33m\u001b[0m\u001b[1;33m\u001b[0m\u001b[0m\n\u001b[1;32m--> 174\u001b[1;33m     \u001b[1;32mif\u001b[0m \u001b[0m_is_transparent\u001b[0m\u001b[1;33m(\u001b[0m\u001b[0mfig\u001b[0m\u001b[1;33m.\u001b[0m\u001b[0mget_facecolor\u001b[0m\u001b[1;33m(\u001b[0m\u001b[1;33m)\u001b[0m\u001b[1;33m)\u001b[0m\u001b[1;33m:\u001b[0m\u001b[1;33m\u001b[0m\u001b[0m\n\u001b[0m\u001b[0;32m    175\u001b[0m         \u001b[1;31m# the background is transparent\u001b[0m\u001b[1;33m\u001b[0m\u001b[1;33m\u001b[0m\u001b[0m\n\u001b[0;32m    176\u001b[0m         ticksLight = _is_light([label.get_color()\n",
      "\u001b[1;32m~\\AppData\\Local\\Continuum\\anaconda2\\envs\\tensorflow\\lib\\site-packages\\ipykernel\\pylab\\backend_inline.py\u001b[0m in \u001b[0;36m_is_transparent\u001b[1;34m(color)\u001b[0m\n\u001b[0;32m    193\u001b[0m \u001b[1;32mdef\u001b[0m \u001b[0m_is_transparent\u001b[0m\u001b[1;33m(\u001b[0m\u001b[0mcolor\u001b[0m\u001b[1;33m)\u001b[0m\u001b[1;33m:\u001b[0m\u001b[1;33m\u001b[0m\u001b[0m\n\u001b[0;32m    194\u001b[0m     \u001b[1;34m\"\"\"Determine transparency from alpha.\"\"\"\u001b[0m\u001b[1;33m\u001b[0m\u001b[0m\n\u001b[1;32m--> 195\u001b[1;33m     \u001b[0mrgba\u001b[0m \u001b[1;33m=\u001b[0m \u001b[0mcolors\u001b[0m\u001b[1;33m.\u001b[0m\u001b[0mto_rgba\u001b[0m\u001b[1;33m(\u001b[0m\u001b[0mcolor\u001b[0m\u001b[1;33m)\u001b[0m\u001b[1;33m\u001b[0m\u001b[0m\n\u001b[0m\u001b[0;32m    196\u001b[0m     \u001b[1;32mreturn\u001b[0m \u001b[0mrgba\u001b[0m\u001b[1;33m[\u001b[0m\u001b[1;36m3\u001b[0m\u001b[1;33m]\u001b[0m \u001b[1;33m<\u001b[0m \u001b[1;36m.5\u001b[0m\u001b[1;33m\u001b[0m\u001b[0m\n",
      "\u001b[1;31mAttributeError\u001b[0m: module 'matplotlib.colors' has no attribute 'to_rgba'"
     ]
    }
   ],
   "source": [
    "import matplotlib.pyplot as plt\n",
    "plt.figure()\n",
    "plt.plot(Hs.keys(), layer_means, 'ob-')\n"
   ]
  },
  {
   "cell_type": "code",
   "execution_count": null,
   "id": "7ceb03d7",
   "metadata": {},
   "outputs": [],
   "source": []
  }
 ],
 "metadata": {
  "kernelspec": {
   "display_name": "Python 3 (ipykernel)",
   "language": "python",
   "name": "python3"
  },
  "language_info": {
   "codemirror_mode": {
    "name": "ipython",
    "version": 3
   },
   "file_extension": ".py",
   "mimetype": "text/x-python",
   "name": "python",
   "nbconvert_exporter": "python",
   "pygments_lexer": "ipython3",
   "version": "3.9.5"
  }
 },
 "nbformat": 4,
 "nbformat_minor": 5
}
